{
 "cells": [
  {
   "cell_type": "code",
   "execution_count": 1,
   "id": "848669ee",
   "metadata": {},
   "outputs": [],
   "source": [
    "import os"
   ]
  },
  {
   "cell_type": "code",
   "execution_count": 2,
   "id": "c0bacea8",
   "metadata": {},
   "outputs": [],
   "source": [
    "# enter your directory path within the quotes\n",
    "# Note: The folders MasterDictionary and StopWords must be in there\n",
    "cdir = \"\""
   ]
  },
  {
   "cell_type": "code",
   "execution_count": 3,
   "id": "6b20dc62",
   "metadata": {},
   "outputs": [],
   "source": [
    "os.chdir(cdir)\n",
    "\n",
    "from        urllib.request          import           urlopen\n",
    "from        bs4                     import           BeautifulSoup\n",
    "import                                               urllib\n",
    "import                                               requests\n",
    "import                                               pandas                      as pd\n",
    "import      re \n",
    "import      nltk\n",
    "\n",
    "pd.set_option('display.max_rows',200)\n",
    "pd.set_option('display.max_colwidth', 1000)\n",
    "\n",
    "df = pd.read_excel('Input.xlsx')\n",
    "df_ = pd.read_excel('Output Data Structure.xlsx')"
   ]
  },
  {
   "cell_type": "code",
   "execution_count": 4,
   "id": "f5ff2800",
   "metadata": {},
   "outputs": [],
   "source": [
    "HEAD = []\n",
    "w=0\n",
    "for url in df[\"URL\"]:\n",
    "    \n",
    "    if w not in [7,20,107]:\n",
    "        HEAD.append(url.split(\"/\")[3].replace(\"-\",\" \"))\n",
    "    else:\n",
    "        HEAD.append(\"\")\n",
    "    w+=1\n",
    "\n",
    "df[\"HEAD\"] = HEAD"
   ]
  },
  {
   "cell_type": "code",
   "execution_count": 5,
   "id": "b38c7838",
   "metadata": {},
   "outputs": [],
   "source": [
    "TEXT = []\n",
    "\n",
    "for url in df[\"URL\"]:\n",
    "    \n",
    "    try:\n",
    "    \n",
    "        response = requests.get(url)\n",
    "        \n",
    "        if response.status_code == 200:\n",
    "            soup = BeautifulSoup(response.content, \"html.parser\")\n",
    "            main_content = soup.find(class_=\"entry-content\")\n",
    "            text = main_content.text\n",
    "            lines = (line.strip() for line in text.splitlines())\n",
    "            chunks = (phrase.strip() for line in lines for phrase in line.split(\" \"))\n",
    "            text = ' '.join(chunk for chunk in chunks if chunk).lower()\n",
    "            TEXT.append(text)\n",
    "            \n",
    "        else:            \n",
    "            TEXT.append(\"not found\")\n",
    "    \n",
    "    except requests.ConnectionError as e:\n",
    "        TEXT.append(\"unsupported\")\n",
    "        print(\"UNSUPPORTED\")\n",
    "\n",
    "df[\"TEXT\"] = TEXT"
   ]
  },
  {
   "cell_type": "code",
   "execution_count": 6,
   "id": "4f818de3",
   "metadata": {},
   "outputs": [],
   "source": [
    "TEXT = []\n",
    "\n",
    "for url in df[\"URL\"]:\n",
    "    \n",
    "    try:\n",
    "    \n",
    "        response = requests.get(url)\n",
    "        \n",
    "        if response.status_code == 200:\n",
    "            soup = BeautifulSoup(response.content, \"html.parser\")\n",
    "            main_content = soup.find(class_=\"site-main\")\n",
    "            text = main_content.text\n",
    "            lines = (line.strip() for line in text.splitlines())\n",
    "            chunks = (phrase.strip() for line in lines for phrase in line.split(\" \"))\n",
    "            text = ' '.join(chunk for chunk in chunks if chunk).lower()\n",
    "            TEXT.append(text)\n",
    "            \n",
    "        else:            \n",
    "            TEXT.append(\"not found\")\n",
    "    \n",
    "    except requests.ConnectionError as e:\n",
    "        TEXT.append(\"unsupported\")\n",
    "        print(\"UNSUPPORTED\")\n",
    "\n",
    "df[\"TEXT1\"] = TEXT"
   ]
  },
  {
   "cell_type": "code",
   "execution_count": 7,
   "id": "b46797f0",
   "metadata": {},
   "outputs": [],
   "source": [
    "TEXT = []\n",
    "for txt in df[\"TEXT1\"]:\n",
    "    TEXT.append(txt.split(\"posted on\")[1].split(\"mn read\")[0].strip())\n",
    "    \n",
    "df[\"TEXT1\"] = TEXT"
   ]
  },
  {
   "cell_type": "code",
   "execution_count": 8,
   "id": "a09a9715",
   "metadata": {},
   "outputs": [],
   "source": [
    "categories = [\"business and finance\", \"technology\", \"marketing\", \"space science\", \"education\", \"blog\", \"sports\", \"food\", \n",
    "              \"health\", \"laws and international laws\", \"lifestyle\", \"computer science\", \"travel\", \"design\", \n",
    "              \"environmental science\", \"religion\"]"
   ]
  },
  {
   "cell_type": "code",
   "execution_count": 9,
   "id": "ef6dc51f",
   "metadata": {},
   "outputs": [],
   "source": [
    "df[\"DATE\"] = df[\"TEXT1\"]"
   ]
  },
  {
   "cell_type": "code",
   "execution_count": 10,
   "id": "29d127e4",
   "metadata": {
    "code_folding": []
   },
   "outputs": [],
   "source": [
    "for locn in np.arange(df.shape[0]):\n",
    "    \n",
    "    for cat in categories:\n",
    "                \n",
    "        df.loc[locn,\"DATE\"] = df.loc[locn,\"DATE\"].split(cat)[0].strip()    "
   ]
  },
  {
   "cell_type": "code",
   "execution_count": 11,
   "id": "31d62f56",
   "metadata": {},
   "outputs": [],
   "source": [
    "df[\"CATEGORY\"] = df[\"TEXT1\"]"
   ]
  },
  {
   "cell_type": "code",
   "execution_count": 12,
   "id": "eff50804",
   "metadata": {},
   "outputs": [],
   "source": [
    "for locn in np.arange(df.shape[0]):\n",
    "                \n",
    "        df.loc[locn,\"CATEGORY\"] = df.loc[locn,\"CATEGORY\"].split(df.loc[locn,\"DATE\"])[1].strip()"
   ]
  },
  {
   "cell_type": "code",
   "execution_count": 13,
   "id": "57ffd70d",
   "metadata": {},
   "outputs": [],
   "source": [
    "for locn in np.arange(df.shape[0]):\n",
    "                \n",
    "        df.loc[locn,\"CATEGORY\"] = re.sub(r'\\d+', '', df.loc[locn,\"CATEGORY\"])"
   ]
  },
  {
   "cell_type": "code",
   "execution_count": 14,
   "id": "d48b0557",
   "metadata": {},
   "outputs": [],
   "source": [
    "df[\"Time Taken\"] = \"\""
   ]
  },
  {
   "cell_type": "code",
   "execution_count": 15,
   "id": "6ec2d7ee",
   "metadata": {},
   "outputs": [],
   "source": [
    "for locn in np.arange(df.shape[0]):\n",
    "    df.loc[locn,\"Time Taken\"] = df.loc[locn,\"TEXT\"].split(\"mn read\")[0].strip()"
   ]
  },
  {
   "cell_type": "code",
   "execution_count": 16,
   "id": "bcf6013a",
   "metadata": {},
   "outputs": [],
   "source": [
    "for locn in np.arange(df.shape[0]):\n",
    "    df.loc[locn,\"TEXT\"] = df.loc[locn,\"TEXT\"].split(\"mn read\")[1].strip()"
   ]
  },
  {
   "cell_type": "code",
   "execution_count": 17,
   "id": "1f52b9ec",
   "metadata": {},
   "outputs": [],
   "source": [
    "df[\"TXT\"] = df[\"HEAD\"] + \" \" + df[\"TEXT\"]"
   ]
  },
  {
   "cell_type": "code",
   "execution_count": 18,
   "id": "e2126baa",
   "metadata": {},
   "outputs": [],
   "source": [
    "df.drop(\"TEXT1\", axis=1, inplace=True)"
   ]
  },
  {
   "cell_type": "code",
   "execution_count": 19,
   "id": "a5f63ba1",
   "metadata": {},
   "outputs": [],
   "source": [
    "df[\"CATEGORY\"] = df[\"CATEGORY\"].str.strip()"
   ]
  },
  {
   "cell_type": "code",
   "execution_count": 20,
   "id": "8380c2e5",
   "metadata": {},
   "outputs": [],
   "source": [
    "df.to_excel(\"Input_Updated.xlsx\")"
   ]
  },
  {
   "cell_type": "markdown",
   "id": "7a2520fe",
   "metadata": {},
   "source": [
    "===================================================================================================================="
   ]
  },
  {
   "cell_type": "code",
   "execution_count": 21,
   "id": "f62def14",
   "metadata": {},
   "outputs": [],
   "source": [
    "import os"
   ]
  },
  {
   "cell_type": "code",
   "execution_count": 22,
   "id": "0c8accf4",
   "metadata": {},
   "outputs": [],
   "source": [
    "data = df.copy()"
   ]
  },
  {
   "cell_type": "code",
   "execution_count": 23,
   "id": "c2a166b8",
   "metadata": {},
   "outputs": [],
   "source": [
    "df = df[[\"URL_ID\", \"DATE\", \"CATEGORY\", \"Time Taken\", \"TXT\"]]"
   ]
  },
  {
   "cell_type": "code",
   "execution_count": 24,
   "id": "2006c436",
   "metadata": {},
   "outputs": [
    {
     "name": "stderr",
     "output_type": "stream",
     "text": [
      "[nltk_data] Downloading package wordnet to\n",
      "[nltk_data]     C:\\Users\\HP\\AppData\\Roaming\\nltk_data...\n",
      "[nltk_data]   Package wordnet is already up-to-date!\n"
     ]
    },
    {
     "data": {
      "text/plain": [
       "True"
      ]
     },
     "execution_count": 24,
     "metadata": {},
     "output_type": "execute_result"
    }
   ],
   "source": [
    "import nltk\n",
    "from nltk import wordnet\n",
    "nltk.download(\"wordnet\")"
   ]
  },
  {
   "cell_type": "code",
   "execution_count": 25,
   "id": "f2c09238",
   "metadata": {},
   "outputs": [],
   "source": [
    "# Adding synonyms to create own positive and negative words"
   ]
  },
  {
   "cell_type": "code",
   "execution_count": 26,
   "id": "e41fa6ce",
   "metadata": {},
   "outputs": [],
   "source": [
    "from nltk.corpus import wordnet\n",
    "\n",
    "# Get a list of positive words\n",
    "pos_words = []\n",
    "for syn in wordnet.synsets(\"good\"):\n",
    "    for lemma in syn.lemmas():\n",
    "        pos_words.append(lemma.name())\n",
    "        \n",
    "# Get a list of negative words\n",
    "neg_words = []\n",
    "for syn in wordnet.synsets(\"bad\"):\n",
    "    for lemma in syn.lemmas():\n",
    "        neg_words.append(lemma.name())"
   ]
  },
  {
   "cell_type": "code",
   "execution_count": 27,
   "id": "2a8b2a19",
   "metadata": {},
   "outputs": [],
   "source": [
    "from nltk.corpus import wordnet\n",
    "\n",
    "# Get a list of positive words\n",
    "pos_words = pos_words\n",
    "for syn in wordnet.synsets(\"positive\"):\n",
    "    for lemma in syn.lemmas():\n",
    "        pos_words.append(lemma.name())\n",
    "        \n",
    "# Get a list of negative words\n",
    "neg_words = neg_words\n",
    "for syn in wordnet.synsets(\"negative\"):\n",
    "    for lemma in syn.lemmas():\n",
    "        neg_words.append(lemma.name())"
   ]
  },
  {
   "cell_type": "code",
   "execution_count": 28,
   "id": "bb5211ad",
   "metadata": {},
   "outputs": [],
   "source": [
    "pos_words = sorted(set(pos_words))\n",
    "\n",
    "neg_words = sorted(set(neg_words))"
   ]
  },
  {
   "cell_type": "code",
   "execution_count": 29,
   "id": "ea6c695a",
   "metadata": {},
   "outputs": [],
   "source": [
    "pos_words = \" \".join(pos_words).replace(\"_\", \"-\")\n",
    "neg_words = \" \".join(neg_words).replace(\"_\", \"-\")"
   ]
  },
  {
   "cell_type": "code",
   "execution_count": 30,
   "id": "c0a372d3",
   "metadata": {},
   "outputs": [],
   "source": [
    "# Adding own words is time consuming, so lets use the negative and positive word list.\n",
    "# Negative Word List = https://ptrckprry.com/course/ssd/data/negative-words.txt\n",
    "# Positive Word List = https://ptrckprry.com/course/ssd/data/positive-words.txt"
   ]
  },
  {
   "cell_type": "code",
   "execution_count": 31,
   "id": "66443948",
   "metadata": {},
   "outputs": [],
   "source": [
    "neg_path = \"Dictionary/negative.txt\"\n",
    "pos_path = \"Dictionary/positive.txt\""
   ]
  },
  {
   "cell_type": "code",
   "execution_count": 32,
   "id": "814408fe",
   "metadata": {},
   "outputs": [],
   "source": [
    "with open(neg_path) as f:\n",
    "    contents = f.readlines()\n",
    "\n",
    "neg = \"\"\n",
    "for w in contents:\n",
    "    \n",
    "    neg = neg + \" \" + w\n",
    "\n",
    "neg = neg.replace('\\n', '')\n",
    "\n",
    "f.close()"
   ]
  },
  {
   "cell_type": "code",
   "execution_count": 33,
   "id": "61446e8f",
   "metadata": {},
   "outputs": [],
   "source": [
    "with open(pos_path) as f:\n",
    "    contents = f.readlines()\n",
    "\n",
    "pos = \"\"\n",
    "for w in contents:\n",
    "    \n",
    "    pos = pos + \" \" + w\n",
    "\n",
    "pos = pos.replace('\\n', '')\n",
    "\n",
    "f.close()"
   ]
  },
  {
   "cell_type": "code",
   "execution_count": 34,
   "id": "54ee736a",
   "metadata": {},
   "outputs": [],
   "source": [
    "neg = neg.strip()\n",
    "pos = pos.strip()"
   ]
  },
  {
   "cell_type": "code",
   "execution_count": 35,
   "id": "8a623021",
   "metadata": {},
   "outputs": [],
   "source": [
    "neg = neg + \" \" + neg_words\n",
    "\n",
    "pos = pos + \" \" + pos_words\n",
    "\n",
    "neg = \" \".join(sorted(set(neg.split(\" \"))))\n",
    "\n",
    "pos = \" \".join(sorted(set(pos.split(\" \"))))"
   ]
  },
  {
   "cell_type": "markdown",
   "id": "a031a2ca",
   "metadata": {},
   "source": [
    "======================================================================================================================"
   ]
  },
  {
   "cell_type": "code",
   "execution_count": 36,
   "id": "19625165",
   "metadata": {},
   "outputs": [],
   "source": [
    "stop_path = \"Dictionary/StopWords.txt\""
   ]
  },
  {
   "cell_type": "code",
   "execution_count": 37,
   "id": "c742fe85",
   "metadata": {},
   "outputs": [],
   "source": [
    "def stop_extract(path):\n",
    "    with open(path) as file:\n",
    "        \n",
    "        extract = \"\"\n",
    "        for w in file:\n",
    "            w = w.partition('|')[0]\n",
    "            w = w.strip()\n",
    "            extract = extract + \" \" + w\n",
    "    \n",
    "    file.close()\n",
    "    \n",
    "    return extract"
   ]
  },
  {
   "cell_type": "code",
   "execution_count": 38,
   "id": "5a7b4431",
   "metadata": {},
   "outputs": [],
   "source": [
    "StopWords = stop_extract(stop_path)\n",
    "\n",
    "StopWords = StopWords.lower().strip()"
   ]
  },
  {
   "cell_type": "code",
   "execution_count": 39,
   "id": "27024b26",
   "metadata": {},
   "outputs": [],
   "source": [
    "CLN = []"
   ]
  },
  {
   "cell_type": "code",
   "execution_count": 40,
   "id": "b5af7c5b",
   "metadata": {},
   "outputs": [],
   "source": [
    "for text in df['TXT']:\n",
    "    text_ = re.sub(r'\\xa0', ' ', text)\n",
    "    text_ = re.sub(r'\\t', ' ', text_)\n",
    "    text_ = re.sub(f'[^\\w\\s{\"-\"}]', ' ', text_)\n",
    "    CLN.append(text_)"
   ]
  },
  {
   "cell_type": "code",
   "execution_count": 41,
   "id": "90d2b835",
   "metadata": {},
   "outputs": [],
   "source": [
    "df['TXT_SCHAR_CN'] = CLN"
   ]
  },
  {
   "cell_type": "code",
   "execution_count": 42,
   "id": "e4fe7386",
   "metadata": {},
   "outputs": [],
   "source": [
    "df['CLN_GVN'] = df['TXT_SCHAR_CN'].apply(lambda x: ' '.join([word for word in x.split() if word not in (StopWords)]))"
   ]
  },
  {
   "cell_type": "code",
   "execution_count": 43,
   "id": "667ca82b",
   "metadata": {},
   "outputs": [],
   "source": [
    "toks = []"
   ]
  },
  {
   "cell_type": "code",
   "execution_count": 44,
   "id": "32cde7a5",
   "metadata": {},
   "outputs": [],
   "source": [
    "w=0\n",
    "for txt in df['CLN_GVN']:\n",
    "    if w not in [7,20,107]:\n",
    "        toks.append(nltk.word_tokenize(txt))\n",
    "    else:\n",
    "        toks.append(\"\")\n",
    "    w+=1"
   ]
  },
  {
   "cell_type": "code",
   "execution_count": 45,
   "id": "7cfac6b4",
   "metadata": {},
   "outputs": [],
   "source": [
    "df['tok_gvn'] = toks"
   ]
  },
  {
   "cell_type": "markdown",
   "id": "5add33c3",
   "metadata": {},
   "source": [
    "==================================================================================================================="
   ]
  },
  {
   "cell_type": "code",
   "execution_count": 46,
   "id": "7e24151d",
   "metadata": {},
   "outputs": [],
   "source": [
    "# POSITIVES COUNT AND EXTRACTION\n",
    "\n",
    "POS1 = []\n",
    "po_words = []\n",
    "tot_pos = \"\"\n",
    "\n",
    "for col in df['CLN_GVN']:\n",
    "    \n",
    "    if col != \"not found\":\n",
    "        LST = col.split() \n",
    "        word = 0 \n",
    "        \n",
    "        _pos = \"\"\n",
    "        \n",
    "        for i in pos.split():\n",
    "            if i in LST:\n",
    "                word += 1\n",
    "                _pos = _pos + \" \" + i\n",
    "                \n",
    "        ps = \" \".join(sorted(_pos.split()))\n",
    "        po_words.append(ps)\n",
    "        tot_pos = tot_pos + \" \" + _pos\n",
    "    \n",
    "    else:        \n",
    "        word = 0\n",
    "        po_words.append(\"\")\n",
    "    \n",
    "    POS1.append(word)\n",
    "\n",
    "# NEGATIVES COUNT AND EXTRACTION\n",
    "\n",
    "NEG1 = []\n",
    "ne_words = []\n",
    "tot_neg = \"\"\n",
    "\n",
    "for col in df['CLN_GVN']:\n",
    "    \n",
    "    if col != \"not found\":\n",
    "        LST = col.split() \n",
    "        word = 0 \n",
    "        \n",
    "        _neg = \"\"\n",
    "        \n",
    "        for i in neg.split():\n",
    "            if i in LST:\n",
    "                word += (-1)                \n",
    "                _neg = _neg + \" \" + i\n",
    "                \n",
    "        ng = \" \".join(sorted(_neg.split()))\n",
    "        ne_words.append(ng)      \n",
    "        tot_neg = tot_neg + \" \" + _neg            \n",
    "    \n",
    "    else:        \n",
    "        word = 0\n",
    "        ne_words.append(\"\")\n",
    "    \n",
    "    NEG1.append(word)"
   ]
  },
  {
   "cell_type": "code",
   "execution_count": 47,
   "id": "1fe40529",
   "metadata": {},
   "outputs": [],
   "source": [
    "df_['POSITIVE SCORE'] = POS1\n",
    "df_['NEGATIVE SCORE'] = NEG1\n",
    "\n",
    "df_['NEGATIVE SCORE'] = df_['NEGATIVE SCORE'] * (-1)"
   ]
  },
  {
   "cell_type": "code",
   "execution_count": 48,
   "id": "c68c8499",
   "metadata": {},
   "outputs": [],
   "source": [
    "df_['POLARITY SCORE'] = (df_['POSITIVE SCORE'] - df_['NEGATIVE SCORE']) / ((df_['POSITIVE SCORE'] + df_['NEGATIVE SCORE']) + 0.000001)"
   ]
  },
  {
   "cell_type": "code",
   "execution_count": 49,
   "id": "228ff2d1",
   "metadata": {},
   "outputs": [],
   "source": [
    "df[\"POSITIVE WORDS\"] = po_words\n",
    "df[\"NEGATIVE WORDS\"] = ne_words"
   ]
  },
  {
   "cell_type": "code",
   "execution_count": 50,
   "id": "38fe789d",
   "metadata": {},
   "outputs": [],
   "source": [
    "df[\"Time Taken\"] = df[\"Time Taken\"].astype(int)"
   ]
  },
  {
   "cell_type": "markdown",
   "id": "a5ccc97c",
   "metadata": {},
   "source": [
    "===================================================================================================================="
   ]
  },
  {
   "cell_type": "code",
   "execution_count": 51,
   "id": "f5759c81",
   "metadata": {},
   "outputs": [],
   "source": [
    "tot_pos=\" \".join(sorted(set(tot_pos.strip().split())))"
   ]
  },
  {
   "cell_type": "code",
   "execution_count": 52,
   "id": "79420f3d",
   "metadata": {},
   "outputs": [],
   "source": [
    "tol_neg = \" \".join(sorted(set(tot_neg.strip().split())))"
   ]
  },
  {
   "cell_type": "code",
   "execution_count": 53,
   "id": "ce804fa1",
   "metadata": {},
   "outputs": [],
   "source": [
    "# CREATING A DICTIONARY OF ALL THE POSITIVE WORDS AND NEGATIVE WORDS, TO CHECK WORDS PER ARTICLE --> CHECK DATAFRAME"
   ]
  },
  {
   "cell_type": "code",
   "execution_count": 54,
   "id": "0fc0622e",
   "metadata": {},
   "outputs": [],
   "source": [
    "sentiments = dict({\"POSITIVE\":tot_pos, \"NEGATIVE\":tot_neg})"
   ]
  },
  {
   "cell_type": "code",
   "execution_count": 55,
   "id": "bdef3a69",
   "metadata": {},
   "outputs": [],
   "source": [
    "# CLEANING TEXT USING NLTK TO GET WORD COUNT"
   ]
  },
  {
   "cell_type": "code",
   "execution_count": 56,
   "id": "a2c302c9",
   "metadata": {},
   "outputs": [],
   "source": [
    "from nltk.corpus import stopwords"
   ]
  },
  {
   "cell_type": "code",
   "execution_count": 57,
   "id": "7d8cc9f0",
   "metadata": {},
   "outputs": [],
   "source": [
    "nltk_stop = stopwords.words(\"english\")"
   ]
  },
  {
   "cell_type": "code",
   "execution_count": 58,
   "id": "74121173",
   "metadata": {},
   "outputs": [],
   "source": [
    "# Removing hyphenated words"
   ]
  },
  {
   "cell_type": "code",
   "execution_count": 59,
   "id": "1bf9733a",
   "metadata": {},
   "outputs": [],
   "source": [
    "hypList = []\n",
    "for t in df[\"CLN_GVN\"]:\n",
    "    hypList.append(re.sub(r'[^\\w\\s]', ' ', t))\n",
    "\n",
    "df[\"NLTK_CLN\"] = hypList\n",
    "\n",
    "NLTK_CLN = []\n",
    "for txt in df['NLTK_CLN']:\n",
    "    NLTK_CLN.append(nltk.word_tokenize(txt))\n",
    "    \n",
    "df[\"NLTK_CLN\"] = NLTK_CLN\n",
    "\n",
    "tok_nltk = []\n",
    "\n",
    "for tkns in df[\"NLTK_CLN\"]:\n",
    "    \n",
    "    without_sw = [word for word in tkns if not word in nltk_stop]\n",
    "    tok_nltk.append(without_sw)\n",
    "    \n",
    "df[\"tok_nltk\"] = tok_nltk"
   ]
  },
  {
   "cell_type": "code",
   "execution_count": 60,
   "id": "ab8e3f5f",
   "metadata": {},
   "outputs": [],
   "source": [
    "word_count = []\n",
    "for i in df['tok_nltk']:\n",
    "    word_count.append(len(i))"
   ]
  },
  {
   "cell_type": "code",
   "execution_count": 61,
   "id": "68899a5e",
   "metadata": {},
   "outputs": [],
   "source": [
    "df_['WORD COUNT'] = word_count"
   ]
  },
  {
   "cell_type": "code",
   "execution_count": 62,
   "id": "d51c7ccd",
   "metadata": {},
   "outputs": [],
   "source": [
    "df_['SUBJECTIVITY SCORE'] = round((df_['POSITIVE SCORE'] + df_['NEGATIVE SCORE']) / ((df_['WORD COUNT']) + 0.000001), 4)"
   ]
  },
  {
   "cell_type": "markdown",
   "id": "becc357f",
   "metadata": {},
   "source": [
    "======================================================================================================================="
   ]
  },
  {
   "cell_type": "code",
   "execution_count": 63,
   "id": "51fc9441",
   "metadata": {},
   "outputs": [
    {
     "name": "stderr",
     "output_type": "stream",
     "text": [
      "[nltk_data] Downloading package punkt to\n",
      "[nltk_data]     C:\\Users\\HP\\AppData\\Roaming\\nltk_data...\n",
      "[nltk_data]   Package punkt is already up-to-date!\n"
     ]
    }
   ],
   "source": [
    "nltk.download('punkt')\n",
    "from nltk.tokenize import sent_tokenize"
   ]
  },
  {
   "cell_type": "code",
   "execution_count": 64,
   "id": "37dffddc",
   "metadata": {},
   "outputs": [],
   "source": [
    "sent = []\n",
    "for sents in df['TXT']:\n",
    "        num_sent = sent_tokenize(sents)\n",
    "        sent.append(len(num_sent))"
   ]
  },
  {
   "cell_type": "code",
   "execution_count": 65,
   "id": "937d0b7c",
   "metadata": {},
   "outputs": [],
   "source": [
    "df['SENTENCE COUNT'] = sent"
   ]
  },
  {
   "cell_type": "code",
   "execution_count": 66,
   "id": "9708e69a",
   "metadata": {},
   "outputs": [],
   "source": [
    "df_['AVG SENTENCE LENGTH'] = df_['WORD COUNT'] / df['SENTENCE COUNT']"
   ]
  },
  {
   "cell_type": "code",
   "execution_count": 67,
   "id": "7564373b",
   "metadata": {},
   "outputs": [],
   "source": [
    "df_['AVG SENTENCE LENGTH'].fillna(0, inplace=True)"
   ]
  },
  {
   "cell_type": "markdown",
   "id": "004644f5",
   "metadata": {},
   "source": [
    "==================================================================================================================="
   ]
  },
  {
   "cell_type": "code",
   "execution_count": 68,
   "id": "e2fa3f26",
   "metadata": {},
   "outputs": [],
   "source": [
    "import textstat"
   ]
  },
  {
   "cell_type": "code",
   "execution_count": 69,
   "id": "1c23af61",
   "metadata": {},
   "outputs": [],
   "source": [
    "def complex(text):\n",
    "    words = text.split()\n",
    "    c_count = 0\n",
    "    c_word = \"\"\n",
    "    for word in words:\n",
    "        syllables = textstat.syllable_count(word)\n",
    "        if syllables >= 3:\n",
    "            c_count += 1\n",
    "            c_word += \" \"+word \n",
    "    return c_count, c_word"
   ]
  },
  {
   "cell_type": "code",
   "execution_count": 70,
   "id": "a74f0b5f",
   "metadata": {},
   "outputs": [],
   "source": [
    "complx = []\n",
    "complx_ct = []\n",
    "for tx in df['NLTK_CLN']:\n",
    "    tx = \" \".join(tx) \n",
    "    count,word = complex(tx)\n",
    "    complx.append(word)\n",
    "    complx_ct.append(count)"
   ]
  },
  {
   "cell_type": "code",
   "execution_count": 71,
   "id": "fc787ff7",
   "metadata": {},
   "outputs": [],
   "source": [
    "df['COMPLEX_WORDS'] = complx"
   ]
  },
  {
   "cell_type": "code",
   "execution_count": 72,
   "id": "cf0af701",
   "metadata": {},
   "outputs": [],
   "source": [
    "df_[\"COMPLEX WORD COUNT\"] = complx_ct"
   ]
  },
  {
   "cell_type": "code",
   "execution_count": 73,
   "id": "ce5ac13e",
   "metadata": {},
   "outputs": [],
   "source": [
    "df_[\"PERCENTAGE OF COMPLEX WORDS\"] = (df_[\"COMPLEX WORD COUNT\"] / df_[\"WORD COUNT\"])"
   ]
  },
  {
   "cell_type": "code",
   "execution_count": 74,
   "id": "fa10ad71",
   "metadata": {},
   "outputs": [],
   "source": [
    "df_[\"PERCENTAGE OF COMPLEX WORDS\"].fillna(0, inplace=True)"
   ]
  },
  {
   "cell_type": "code",
   "execution_count": 75,
   "id": "ac99e2b1",
   "metadata": {},
   "outputs": [],
   "source": [
    "df_['FOG INDEX'] = 0.4 * (df_[\"AVG SENTENCE LENGTH\"] + df_[\"PERCENTAGE OF COMPLEX WORDS\"]) "
   ]
  },
  {
   "cell_type": "markdown",
   "id": "444fc7ef",
   "metadata": {},
   "source": [
    "========================================================================================================================"
   ]
  },
  {
   "cell_type": "code",
   "execution_count": 76,
   "id": "370f3012",
   "metadata": {},
   "outputs": [],
   "source": [
    "word_count_ = []\n",
    "for i in df['TXT_SCHAR_CN']:\n",
    "    word_count_.append(len(i.strip().split()))\n",
    "    \n",
    "df[\"TOT WORD COUNT\"] = word_count_"
   ]
  },
  {
   "cell_type": "code",
   "execution_count": 77,
   "id": "b82ee47c",
   "metadata": {},
   "outputs": [],
   "source": [
    "df_[\"AVG NUMBER OF WORDS PER SENTENCE\"] = df[\"TOT WORD COUNT\"] / df[\"SENTENCE COUNT\"]"
   ]
  },
  {
   "cell_type": "code",
   "execution_count": 78,
   "id": "377853a0",
   "metadata": {},
   "outputs": [],
   "source": [
    "df_[\"AVG NUMBER OF WORDS PER SENTENCE\"].fillna(0, inplace=True)"
   ]
  },
  {
   "cell_type": "code",
   "execution_count": 79,
   "id": "4a716708",
   "metadata": {},
   "outputs": [],
   "source": [
    "# Lemmatizing to get syllable count."
   ]
  },
  {
   "cell_type": "code",
   "execution_count": 80,
   "id": "48910a41",
   "metadata": {},
   "outputs": [],
   "source": [
    "from nltk.stem import PorterStemmer"
   ]
  },
  {
   "cell_type": "code",
   "execution_count": 81,
   "id": "ceaab781",
   "metadata": {},
   "outputs": [],
   "source": [
    "stemmed = []\n",
    "for tx in df[\"NLTK_CLN\"]:\n",
    "    stemmed.append([PorterStemmer().stem(wd) for wd in tx])"
   ]
  },
  {
   "cell_type": "code",
   "execution_count": 82,
   "id": "2d0907f7",
   "metadata": {},
   "outputs": [],
   "source": [
    "df[\"STEMMED\"] = stemmed"
   ]
  },
  {
   "cell_type": "markdown",
   "id": "94326ee6",
   "metadata": {},
   "source": [
    "===================================================================================================================="
   ]
  },
  {
   "cell_type": "code",
   "execution_count": 83,
   "id": "f1f65b32",
   "metadata": {},
   "outputs": [],
   "source": [
    "df[\"pro_chck\"] = df[\"TXT_SCHAR_CN\"]"
   ]
  },
  {
   "cell_type": "code",
   "execution_count": 84,
   "id": "7d8dbcf3",
   "metadata": {},
   "outputs": [],
   "source": [
    "def get_context(word_list, target_word, window_size=2):\n",
    "    context_words = []\n",
    "    for i, w in enumerate(word_list):\n",
    "        if w == target_word:\n",
    "            start = max(0, i - window_size)\n",
    "            end = min(len(word_list), i + window_size + 1)\n",
    "            context_words += word_list[start:end]\n",
    "    return context_words"
   ]
  },
  {
   "cell_type": "code",
   "execution_count": 85,
   "id": "7cd59fb9",
   "metadata": {},
   "outputs": [],
   "source": [
    "extra_ = []\n",
    "for i in df[\"pro_chck\"]:\n",
    "    i = \" \".join(i.strip().split())\n",
    "    extra_.append(i)\n",
    "\n",
    "df[\"pro_chck\"] = extra_"
   ]
  },
  {
   "cell_type": "code",
   "execution_count": 86,
   "id": "8063ff34",
   "metadata": {},
   "outputs": [],
   "source": [
    "indLst = []\n",
    "noLst = []\n",
    "\n",
    "w=0\n",
    "for tx in df[\"pro_chck\"]:\n",
    "    tx = tx.split()\n",
    "    for wd in tx:\n",
    "        if wd == \"us\":                       \n",
    "            indLst.append(w)\n",
    "            \n",
    "    if \"us\" not in tx:\n",
    "        noLst.append(w)\n",
    "    w+=1\n",
    "\n",
    "indLst = [*set(indLst)]\n",
    "\n",
    "noLst = [*set(noLst)]"
   ]
  },
  {
   "cell_type": "code",
   "execution_count": 87,
   "id": "c51becb2",
   "metadata": {},
   "outputs": [],
   "source": [
    "df.loc[noLst, \"pro_chck\"] = \"\""
   ]
  },
  {
   "cell_type": "code",
   "execution_count": 88,
   "id": "7b148bbc",
   "metadata": {},
   "outputs": [],
   "source": [
    "# Removing us that is for US (country)"
   ]
  },
  {
   "cell_type": "code",
   "execution_count": 89,
   "id": "058cf8e0",
   "metadata": {},
   "outputs": [],
   "source": [
    "df[\"pro_chck\"] = df[\"pro_chck\"].str.replace(\"us dollar\", \"\")\n",
    "df[\"pro_chck\"] = df[\"pro_chck\"].str.replace(\"us economy\", \"\")\n",
    "df[\"pro_chck\"] = df[\"pro_chck\"].str.replace(\"us business\", \"\")\n",
    "df[\"pro_chck\"] = df[\"pro_chck\"].str.replace(\"the us\", \"\")"
   ]
  },
  {
   "cell_type": "code",
   "execution_count": 90,
   "id": "e30bcfdb",
   "metadata": {},
   "outputs": [],
   "source": [
    "def remove_us_number(text):\n",
    "    return re.sub(r'\\b\\w+ \\d+\\b', '', text)"
   ]
  },
  {
   "cell_type": "code",
   "execution_count": 91,
   "id": "192f8170",
   "metadata": {},
   "outputs": [],
   "source": [
    "rem_num = []\n",
    "for i in df[\"pro_chck\"]:\n",
    "    rem_num.append(remove_us_number(i))\n",
    "df[\"pro_us\"] = rem_num"
   ]
  },
  {
   "cell_type": "code",
   "execution_count": 92,
   "id": "719da906",
   "metadata": {},
   "outputs": [],
   "source": [
    "df[\"us_count\"] = df[\"pro_us\"].str.count(\" us \")"
   ]
  },
  {
   "cell_type": "code",
   "execution_count": 93,
   "id": "c32b2d15",
   "metadata": {},
   "outputs": [],
   "source": [
    "# Check 2 words before and 2 words after each \"us\", to check its context as pronoun or not with the below code by removing\n",
    "# (# hashtags.) from the below codes"
   ]
  },
  {
   "cell_type": "code",
   "execution_count": 94,
   "id": "f7118663",
   "metadata": {},
   "outputs": [],
   "source": [
    "# for i in df[\"pro_us\"].str.split():\n",
    "#     print(get_context(i,\"us\"))"
   ]
  },
  {
   "cell_type": "markdown",
   "id": "0edf01f2",
   "metadata": {},
   "source": [
    "======================================================================================================================"
   ]
  },
  {
   "cell_type": "code",
   "execution_count": 95,
   "id": "b0bf57b4",
   "metadata": {},
   "outputs": [],
   "source": [
    "df[\"pro_chck\"] = df[\"TXT_SCHAR_CN\"]"
   ]
  },
  {
   "cell_type": "code",
   "execution_count": 96,
   "id": "53f2bdc6",
   "metadata": {},
   "outputs": [],
   "source": [
    "pronouns = re.compile(r\"\\b(I|we|my|ours)\\b\", re.IGNORECASE)\n",
    "\n",
    "df1 = df[[\"pro_chck\"]]\n",
    "\n",
    "def count_words(seq, pronouns):\n",
    "    count = len(re.findall(pronouns, seq['pro_chck']))\n",
    "    return count\n",
    "\n",
    "df['pro_cnt'] = df1.apply(lambda seq: count_words(seq, pronouns), axis=1)"
   ]
  },
  {
   "cell_type": "code",
   "execution_count": 97,
   "id": "1fd6b775",
   "metadata": {},
   "outputs": [],
   "source": [
    "# PERSONAL PRONOUNS INCLUDE \"I\", \"WE\", \"MY\", \"OURS\", \"US\"\n",
    "\n",
    "df_[\"PERSONAL PRONOUNS\"] = df[\"pro_cnt\"] + df[\"us_count\"]"
   ]
  },
  {
   "cell_type": "markdown",
   "id": "b55bfb41",
   "metadata": {},
   "source": [
    "====================================================================================================================="
   ]
  },
  {
   "cell_type": "code",
   "execution_count": 98,
   "id": "b4031d73",
   "metadata": {},
   "outputs": [],
   "source": [
    "def count_vowels(word):\n",
    "    vowels = \"aeiou\"\n",
    "    count = 0\n",
    "    for char in word:\n",
    "        if char in vowels:\n",
    "            count += 1\n",
    "    return count\n",
    "\n",
    "def count_vowels_in_text(text):\n",
    "    words = text\n",
    "    vowel_counts = [count_vowels(word) for word in words]\n",
    "    return sum(vowel_counts)"
   ]
  },
  {
   "cell_type": "code",
   "execution_count": 99,
   "id": "d5e9390c",
   "metadata": {
    "code_folding": []
   },
   "outputs": [],
   "source": [
    "syll = []\n",
    "for i in df[\"STEMMED\"]:\n",
    "    ct = count_vowels_in_text(i)\n",
    "    syll.append(ct)"
   ]
  },
  {
   "cell_type": "code",
   "execution_count": 100,
   "id": "2de11caa",
   "metadata": {},
   "outputs": [],
   "source": [
    "df[\"Tot Syll\"] = syll"
   ]
  },
  {
   "cell_type": "code",
   "execution_count": 101,
   "id": "9ad3aab8",
   "metadata": {},
   "outputs": [],
   "source": [
    "df_[\"SYLLABLE PER WORD\"] = df[\"Tot Syll\"] / df_[\"WORD COUNT\"]\n",
    "\n",
    "df_[\"SYLLABLE PER WORD\"].fillna(0, inplace=True)"
   ]
  },
  {
   "cell_type": "code",
   "execution_count": 102,
   "id": "6cd3469b",
   "metadata": {},
   "outputs": [],
   "source": [
    "def count_chars(word):\n",
    "    return len(word)\n",
    "\n",
    "# Define a function to tokenize the text and count the characters in each word\n",
    "def count_chars_in_text(text):\n",
    "    words = text\n",
    "    char_counts = [count_chars(word) for word in words]\n",
    "    return sum(char_counts)"
   ]
  },
  {
   "cell_type": "code",
   "execution_count": 103,
   "id": "9f1efda9",
   "metadata": {},
   "outputs": [],
   "source": [
    "char_cnt = []\n",
    "for i in df[\"NLTK_CLN\"]:\n",
    "    char_cnt.append(count_chars_in_text(i))"
   ]
  },
  {
   "cell_type": "code",
   "execution_count": 104,
   "id": "b17eff87",
   "metadata": {},
   "outputs": [],
   "source": [
    "df[\"Cln Char\"] = char_cnt"
   ]
  },
  {
   "cell_type": "code",
   "execution_count": 105,
   "id": "c34c8d02",
   "metadata": {},
   "outputs": [],
   "source": [
    "df[\"AVG WORD LENGTH CLN\"] = df[\"Cln Char\"] / df_[\"WORD COUNT\"]\n",
    "\n",
    "df_.fillna(0, inplace=True)"
   ]
  },
  {
   "cell_type": "code",
   "execution_count": 106,
   "id": "eab93acc",
   "metadata": {},
   "outputs": [],
   "source": [
    "tot_char_cnt = []\n",
    "for i in df[\"TXT_SCHAR_CN\"]:\n",
    "    tot_char_cnt.append(count_chars_in_text(i.split()))"
   ]
  },
  {
   "cell_type": "code",
   "execution_count": 107,
   "id": "f9a00462",
   "metadata": {},
   "outputs": [],
   "source": [
    "df[\"Tot Char\"] = tot_char_cnt"
   ]
  },
  {
   "cell_type": "code",
   "execution_count": 108,
   "id": "f95b9bb3",
   "metadata": {},
   "outputs": [],
   "source": [
    "df[\"AVG WORD LENGTH\"] = df[\"Tot Char\"] / df[\"TOT WORD COUNT\"]\n",
    "\n",
    "df.fillna(0, inplace=True)"
   ]
  },
  {
   "cell_type": "code",
   "execution_count": 109,
   "id": "29f63b45",
   "metadata": {},
   "outputs": [],
   "source": [
    "df_[\"AVG WORD LENGTH\"] = df[\"AVG WORD LENGTH\"]"
   ]
  },
  {
   "cell_type": "code",
   "execution_count": 110,
   "id": "f51527d8",
   "metadata": {},
   "outputs": [],
   "source": [
    "pd.set_option(\"display.max_columns\", 50)"
   ]
  },
  {
   "cell_type": "code",
   "execution_count": 111,
   "id": "ac63d55d",
   "metadata": {},
   "outputs": [],
   "source": [
    "df[\"Word Count\"] = df_[\"WORD COUNT\"]"
   ]
  },
  {
   "cell_type": "markdown",
   "id": "075c7590",
   "metadata": {},
   "source": [
    "===================================================================================================================="
   ]
  },
  {
   "cell_type": "code",
   "execution_count": 112,
   "id": "d7240f79",
   "metadata": {},
   "outputs": [],
   "source": [
    "df[\"Unique Complex\"] = \"\"\n",
    "df[\"Unique Complex CNT\"] = \"\"\n",
    "for locn in np.arange(df.shape[0]):\n",
    "    df.loc[locn, \"Unique Complex\"] = \" \".join(sorted(set(df.loc[locn, \"COMPLEX_WORDS\"].strip().split(\" \"))))\n",
    "    df.loc[locn, \"Unique Complex CNT\"] = len(sorted(set(df.loc[locn, \"COMPLEX_WORDS\"].strip().split(\" \"))))"
   ]
  },
  {
   "cell_type": "code",
   "execution_count": 113,
   "id": "65810103",
   "metadata": {},
   "outputs": [
    {
     "data": {
      "text/plain": [
       "Index(['URL_ID', 'POSITIVE SCORE', 'NEGATIVE SCORE', 'POLARITY SCORE',\n",
       "       'SUBJECTIVITY SCORE', 'AVG SENTENCE LENGTH',\n",
       "       'PERCENTAGE OF COMPLEX WORDS', 'FOG INDEX',\n",
       "       'AVG NUMBER OF WORDS PER SENTENCE', 'COMPLEX WORD COUNT', 'WORD COUNT',\n",
       "       'SYLLABLE PER WORD', 'PERSONAL PRONOUNS', 'AVG WORD LENGTH'],\n",
       "      dtype='object')"
      ]
     },
     "execution_count": 113,
     "metadata": {},
     "output_type": "execute_result"
    }
   ],
   "source": [
    "df_.columns"
   ]
  },
  {
   "cell_type": "code",
   "execution_count": 114,
   "id": "4997403b",
   "metadata": {},
   "outputs": [],
   "source": [
    "df_[\"UNIQUE COMPLEX WORD COUNT\"] = df[\"Unique Complex CNT\"]"
   ]
  },
  {
   "cell_type": "code",
   "execution_count": 115,
   "id": "67d8a3bc",
   "metadata": {},
   "outputs": [],
   "source": [
    "df_[\"POLARITY\"] = pd.cut(df_[\"POLARITY SCORE\"], [-1, -0.6, -0.2, 0.2, 0.6, 1], labels=[\"VERY NEGATIVE\", \"NEGATIVE\", \"NEUTRAL\", \n",
    "                                                                                      \"POSITIVE\", \"VERY POSITIVE\"])"
   ]
  },
  {
   "cell_type": "code",
   "execution_count": 116,
   "id": "deb109b4",
   "metadata": {},
   "outputs": [],
   "source": [
    "sel_cols = ['URL_ID', 'POSITIVE SCORE', 'NEGATIVE SCORE', 'POLARITY SCORE', 'SUBJECTIVITY SCORE', 'AVG SENTENCE LENGTH',\n",
    "            'PERCENTAGE OF COMPLEX WORDS', 'FOG INDEX', 'AVG NUMBER OF WORDS PER SENTENCE', 'COMPLEX WORD COUNT',\n",
    "            'UNIQUE COMPLEX WORD COUNT', 'WORD COUNT', 'SYLLABLE PER WORD', 'PERSONAL PRONOUNS', 'AVG WORD LENGTH', 'POLARITY']"
   ]
  },
  {
   "cell_type": "code",
   "execution_count": 117,
   "id": "f9bfe8fd",
   "metadata": {},
   "outputs": [],
   "source": [
    "df_ = df_[sel_cols]"
   ]
  },
  {
   "cell_type": "code",
   "execution_count": 118,
   "id": "c7bd21ed",
   "metadata": {},
   "outputs": [
    {
     "data": {
      "text/html": [
       "<div>\n",
       "<style scoped>\n",
       "    .dataframe tbody tr th:only-of-type {\n",
       "        vertical-align: middle;\n",
       "    }\n",
       "\n",
       "    .dataframe tbody tr th {\n",
       "        vertical-align: top;\n",
       "    }\n",
       "\n",
       "    .dataframe thead th {\n",
       "        text-align: right;\n",
       "    }\n",
       "</style>\n",
       "<table border=\"1\" class=\"dataframe\">\n",
       "  <thead>\n",
       "    <tr style=\"text-align: right;\">\n",
       "      <th></th>\n",
       "      <th>URL_ID</th>\n",
       "      <th>POSITIVE SCORE</th>\n",
       "      <th>NEGATIVE SCORE</th>\n",
       "      <th>POLARITY SCORE</th>\n",
       "      <th>SUBJECTIVITY SCORE</th>\n",
       "      <th>AVG SENTENCE LENGTH</th>\n",
       "      <th>PERCENTAGE OF COMPLEX WORDS</th>\n",
       "      <th>FOG INDEX</th>\n",
       "      <th>AVG NUMBER OF WORDS PER SENTENCE</th>\n",
       "      <th>COMPLEX WORD COUNT</th>\n",
       "      <th>UNIQUE COMPLEX WORD COUNT</th>\n",
       "      <th>WORD COUNT</th>\n",
       "      <th>SYLLABLE PER WORD</th>\n",
       "      <th>PERSONAL PRONOUNS</th>\n",
       "      <th>AVG WORD LENGTH</th>\n",
       "      <th>POLARITY</th>\n",
       "    </tr>\n",
       "  </thead>\n",
       "  <tbody>\n",
       "    <tr>\n",
       "      <th>0</th>\n",
       "      <td>1</td>\n",
       "      <td>5</td>\n",
       "      <td>3</td>\n",
       "      <td>0.250000</td>\n",
       "      <td>0.0301</td>\n",
       "      <td>9.172414</td>\n",
       "      <td>0.372180</td>\n",
       "      <td>3.817838</td>\n",
       "      <td>21.000000</td>\n",
       "      <td>99</td>\n",
       "      <td>47</td>\n",
       "      <td>266</td>\n",
       "      <td>2.206767</td>\n",
       "      <td>0</td>\n",
       "      <td>5.124795</td>\n",
       "      <td>POSITIVE</td>\n",
       "    </tr>\n",
       "    <tr>\n",
       "      <th>1</th>\n",
       "      <td>2</td>\n",
       "      <td>5</td>\n",
       "      <td>3</td>\n",
       "      <td>0.250000</td>\n",
       "      <td>0.0302</td>\n",
       "      <td>9.137931</td>\n",
       "      <td>0.369811</td>\n",
       "      <td>3.803097</td>\n",
       "      <td>21.000000</td>\n",
       "      <td>98</td>\n",
       "      <td>47</td>\n",
       "      <td>265</td>\n",
       "      <td>2.207547</td>\n",
       "      <td>0</td>\n",
       "      <td>5.111658</td>\n",
       "      <td>POSITIVE</td>\n",
       "    </tr>\n",
       "    <tr>\n",
       "      <th>2</th>\n",
       "      <td>3</td>\n",
       "      <td>24</td>\n",
       "      <td>9</td>\n",
       "      <td>0.454545</td>\n",
       "      <td>0.0610</td>\n",
       "      <td>6.762500</td>\n",
       "      <td>0.290203</td>\n",
       "      <td>2.821081</td>\n",
       "      <td>20.550000</td>\n",
       "      <td>157</td>\n",
       "      <td>100</td>\n",
       "      <td>541</td>\n",
       "      <td>2.192237</td>\n",
       "      <td>8</td>\n",
       "      <td>4.639903</td>\n",
       "      <td>POSITIVE</td>\n",
       "    </tr>\n",
       "    <tr>\n",
       "      <th>3</th>\n",
       "      <td>4</td>\n",
       "      <td>10</td>\n",
       "      <td>8</td>\n",
       "      <td>0.111111</td>\n",
       "      <td>0.0657</td>\n",
       "      <td>5.372549</td>\n",
       "      <td>0.248175</td>\n",
       "      <td>2.248290</td>\n",
       "      <td>12.941176</td>\n",
       "      <td>68</td>\n",
       "      <td>41</td>\n",
       "      <td>274</td>\n",
       "      <td>2.062044</td>\n",
       "      <td>2</td>\n",
       "      <td>4.763636</td>\n",
       "      <td>NEUTRAL</td>\n",
       "    </tr>\n",
       "    <tr>\n",
       "      <th>4</th>\n",
       "      <td>5</td>\n",
       "      <td>24</td>\n",
       "      <td>6</td>\n",
       "      <td>0.600000</td>\n",
       "      <td>0.0606</td>\n",
       "      <td>7.857143</td>\n",
       "      <td>0.341414</td>\n",
       "      <td>3.279423</td>\n",
       "      <td>17.984127</td>\n",
       "      <td>169</td>\n",
       "      <td>87</td>\n",
       "      <td>495</td>\n",
       "      <td>2.147475</td>\n",
       "      <td>1</td>\n",
       "      <td>5.234775</td>\n",
       "      <td>POSITIVE</td>\n",
       "    </tr>\n",
       "  </tbody>\n",
       "</table>\n",
       "</div>"
      ],
      "text/plain": [
       "   URL_ID  POSITIVE SCORE  NEGATIVE SCORE  POLARITY SCORE  SUBJECTIVITY SCORE  \\\n",
       "0       1               5               3        0.250000              0.0301   \n",
       "1       2               5               3        0.250000              0.0302   \n",
       "2       3              24               9        0.454545              0.0610   \n",
       "3       4              10               8        0.111111              0.0657   \n",
       "4       5              24               6        0.600000              0.0606   \n",
       "\n",
       "   AVG SENTENCE LENGTH  PERCENTAGE OF COMPLEX WORDS  FOG INDEX  \\\n",
       "0             9.172414                     0.372180   3.817838   \n",
       "1             9.137931                     0.369811   3.803097   \n",
       "2             6.762500                     0.290203   2.821081   \n",
       "3             5.372549                     0.248175   2.248290   \n",
       "4             7.857143                     0.341414   3.279423   \n",
       "\n",
       "   AVG NUMBER OF WORDS PER SENTENCE  COMPLEX WORD COUNT  \\\n",
       "0                         21.000000                  99   \n",
       "1                         21.000000                  98   \n",
       "2                         20.550000                 157   \n",
       "3                         12.941176                  68   \n",
       "4                         17.984127                 169   \n",
       "\n",
       "  UNIQUE COMPLEX WORD COUNT  WORD COUNT  SYLLABLE PER WORD  PERSONAL PRONOUNS  \\\n",
       "0                        47         266           2.206767                  0   \n",
       "1                        47         265           2.207547                  0   \n",
       "2                       100         541           2.192237                  8   \n",
       "3                        41         274           2.062044                  2   \n",
       "4                        87         495           2.147475                  1   \n",
       "\n",
       "   AVG WORD LENGTH  POLARITY  \n",
       "0         5.124795  POSITIVE  \n",
       "1         5.111658  POSITIVE  \n",
       "2         4.639903  POSITIVE  \n",
       "3         4.763636   NEUTRAL  \n",
       "4         5.234775  POSITIVE  "
      ]
     },
     "execution_count": 118,
     "metadata": {},
     "output_type": "execute_result"
    }
   ],
   "source": [
    "df_.head()"
   ]
  },
  {
   "cell_type": "code",
   "execution_count": 119,
   "id": "70850656",
   "metadata": {},
   "outputs": [
    {
     "data": {
      "text/html": [
       "<div>\n",
       "<style scoped>\n",
       "    .dataframe tbody tr th:only-of-type {\n",
       "        vertical-align: middle;\n",
       "    }\n",
       "\n",
       "    .dataframe tbody tr th {\n",
       "        vertical-align: top;\n",
       "    }\n",
       "\n",
       "    .dataframe thead th {\n",
       "        text-align: right;\n",
       "    }\n",
       "</style>\n",
       "<table border=\"1\" class=\"dataframe\">\n",
       "  <thead>\n",
       "    <tr style=\"text-align: right;\">\n",
       "      <th></th>\n",
       "      <th>URL_ID</th>\n",
       "      <th>POSITIVE SCORE</th>\n",
       "      <th>NEGATIVE SCORE</th>\n",
       "      <th>POLARITY SCORE</th>\n",
       "      <th>SUBJECTIVITY SCORE</th>\n",
       "      <th>AVG SENTENCE LENGTH</th>\n",
       "      <th>PERCENTAGE OF COMPLEX WORDS</th>\n",
       "      <th>FOG INDEX</th>\n",
       "      <th>AVG NUMBER OF WORDS PER SENTENCE</th>\n",
       "      <th>COMPLEX WORD COUNT</th>\n",
       "      <th>UNIQUE COMPLEX WORD COUNT</th>\n",
       "      <th>WORD COUNT</th>\n",
       "      <th>SYLLABLE PER WORD</th>\n",
       "      <th>PERSONAL PRONOUNS</th>\n",
       "      <th>AVG WORD LENGTH</th>\n",
       "      <th>POLARITY</th>\n",
       "    </tr>\n",
       "  </thead>\n",
       "  <tbody>\n",
       "    <tr>\n",
       "      <th>35</th>\n",
       "      <td>36</td>\n",
       "      <td>19</td>\n",
       "      <td>9</td>\n",
       "      <td>0.357143</td>\n",
       "      <td>0.0909</td>\n",
       "      <td>7.897436</td>\n",
       "      <td>0.454545</td>\n",
       "      <td>3.340793</td>\n",
       "      <td>20.948718</td>\n",
       "      <td>140</td>\n",
       "      <td>67</td>\n",
       "      <td>308</td>\n",
       "      <td>2.081169</td>\n",
       "      <td>2</td>\n",
       "      <td>4.931457</td>\n",
       "      <td>POSITIVE</td>\n",
       "    </tr>\n",
       "    <tr>\n",
       "      <th>36</th>\n",
       "      <td>37</td>\n",
       "      <td>17</td>\n",
       "      <td>1</td>\n",
       "      <td>0.888889</td>\n",
       "      <td>0.0629</td>\n",
       "      <td>8.171429</td>\n",
       "      <td>0.286713</td>\n",
       "      <td>3.383257</td>\n",
       "      <td>21.314286</td>\n",
       "      <td>82</td>\n",
       "      <td>47</td>\n",
       "      <td>286</td>\n",
       "      <td>2.220280</td>\n",
       "      <td>2</td>\n",
       "      <td>5.218499</td>\n",
       "      <td>VERY POSITIVE</td>\n",
       "    </tr>\n",
       "    <tr>\n",
       "      <th>37</th>\n",
       "      <td>38</td>\n",
       "      <td>10</td>\n",
       "      <td>2</td>\n",
       "      <td>0.666667</td>\n",
       "      <td>0.0622</td>\n",
       "      <td>7.720000</td>\n",
       "      <td>0.269430</td>\n",
       "      <td>3.195772</td>\n",
       "      <td>19.400000</td>\n",
       "      <td>52</td>\n",
       "      <td>33</td>\n",
       "      <td>193</td>\n",
       "      <td>2.124352</td>\n",
       "      <td>0</td>\n",
       "      <td>4.830928</td>\n",
       "      <td>VERY POSITIVE</td>\n",
       "    </tr>\n",
       "    <tr>\n",
       "      <th>38</th>\n",
       "      <td>39</td>\n",
       "      <td>6</td>\n",
       "      <td>4</td>\n",
       "      <td>0.200000</td>\n",
       "      <td>0.0340</td>\n",
       "      <td>7.170732</td>\n",
       "      <td>0.350340</td>\n",
       "      <td>3.008429</td>\n",
       "      <td>21.853659</td>\n",
       "      <td>103</td>\n",
       "      <td>61</td>\n",
       "      <td>294</td>\n",
       "      <td>2.357143</td>\n",
       "      <td>0</td>\n",
       "      <td>4.883929</td>\n",
       "      <td>NEUTRAL</td>\n",
       "    </tr>\n",
       "    <tr>\n",
       "      <th>39</th>\n",
       "      <td>40</td>\n",
       "      <td>21</td>\n",
       "      <td>3</td>\n",
       "      <td>0.750000</td>\n",
       "      <td>0.0619</td>\n",
       "      <td>7.918367</td>\n",
       "      <td>0.342784</td>\n",
       "      <td>3.304460</td>\n",
       "      <td>16.265306</td>\n",
       "      <td>133</td>\n",
       "      <td>98</td>\n",
       "      <td>388</td>\n",
       "      <td>2.324742</td>\n",
       "      <td>1</td>\n",
       "      <td>5.612296</td>\n",
       "      <td>VERY POSITIVE</td>\n",
       "    </tr>\n",
       "  </tbody>\n",
       "</table>\n",
       "</div>"
      ],
      "text/plain": [
       "    URL_ID  POSITIVE SCORE  NEGATIVE SCORE  POLARITY SCORE  \\\n",
       "35      36              19               9        0.357143   \n",
       "36      37              17               1        0.888889   \n",
       "37      38              10               2        0.666667   \n",
       "38      39               6               4        0.200000   \n",
       "39      40              21               3        0.750000   \n",
       "\n",
       "    SUBJECTIVITY SCORE  AVG SENTENCE LENGTH  PERCENTAGE OF COMPLEX WORDS  \\\n",
       "35              0.0909             7.897436                     0.454545   \n",
       "36              0.0629             8.171429                     0.286713   \n",
       "37              0.0622             7.720000                     0.269430   \n",
       "38              0.0340             7.170732                     0.350340   \n",
       "39              0.0619             7.918367                     0.342784   \n",
       "\n",
       "    FOG INDEX  AVG NUMBER OF WORDS PER SENTENCE  COMPLEX WORD COUNT  \\\n",
       "35   3.340793                         20.948718                 140   \n",
       "36   3.383257                         21.314286                  82   \n",
       "37   3.195772                         19.400000                  52   \n",
       "38   3.008429                         21.853659                 103   \n",
       "39   3.304460                         16.265306                 133   \n",
       "\n",
       "   UNIQUE COMPLEX WORD COUNT  WORD COUNT  SYLLABLE PER WORD  \\\n",
       "35                        67         308           2.081169   \n",
       "36                        47         286           2.220280   \n",
       "37                        33         193           2.124352   \n",
       "38                        61         294           2.357143   \n",
       "39                        98         388           2.324742   \n",
       "\n",
       "    PERSONAL PRONOUNS  AVG WORD LENGTH       POLARITY  \n",
       "35                  2         4.931457       POSITIVE  \n",
       "36                  2         5.218499  VERY POSITIVE  \n",
       "37                  0         4.830928  VERY POSITIVE  \n",
       "38                  0         4.883929        NEUTRAL  \n",
       "39                  1         5.612296  VERY POSITIVE  "
      ]
     },
     "execution_count": 119,
     "metadata": {},
     "output_type": "execute_result"
    }
   ],
   "source": [
    "df_.tail()"
   ]
  },
  {
   "cell_type": "code",
   "execution_count": 120,
   "id": "3dd839be",
   "metadata": {},
   "outputs": [
    {
     "data": {
      "text/html": [
       "<div>\n",
       "<style scoped>\n",
       "    .dataframe tbody tr th:only-of-type {\n",
       "        vertical-align: middle;\n",
       "    }\n",
       "\n",
       "    .dataframe tbody tr th {\n",
       "        vertical-align: top;\n",
       "    }\n",
       "\n",
       "    .dataframe thead th {\n",
       "        text-align: right;\n",
       "    }\n",
       "</style>\n",
       "<table border=\"1\" class=\"dataframe\">\n",
       "  <thead>\n",
       "    <tr style=\"text-align: right;\">\n",
       "      <th></th>\n",
       "      <th>URL_ID</th>\n",
       "      <th>POSITIVE SCORE</th>\n",
       "      <th>NEGATIVE SCORE</th>\n",
       "      <th>POLARITY SCORE</th>\n",
       "      <th>SUBJECTIVITY SCORE</th>\n",
       "      <th>AVG SENTENCE LENGTH</th>\n",
       "      <th>PERCENTAGE OF COMPLEX WORDS</th>\n",
       "      <th>FOG INDEX</th>\n",
       "      <th>AVG NUMBER OF WORDS PER SENTENCE</th>\n",
       "      <th>COMPLEX WORD COUNT</th>\n",
       "      <th>WORD COUNT</th>\n",
       "      <th>SYLLABLE PER WORD</th>\n",
       "      <th>PERSONAL PRONOUNS</th>\n",
       "      <th>AVG WORD LENGTH</th>\n",
       "    </tr>\n",
       "  </thead>\n",
       "  <tbody>\n",
       "    <tr>\n",
       "      <th>count</th>\n",
       "      <td>40.000000</td>\n",
       "      <td>40.000000</td>\n",
       "      <td>40.000000</td>\n",
       "      <td>40.000000</td>\n",
       "      <td>40.000000</td>\n",
       "      <td>40.000000</td>\n",
       "      <td>40.000000</td>\n",
       "      <td>40.000000</td>\n",
       "      <td>40.000000</td>\n",
       "      <td>40.000000</td>\n",
       "      <td>40.000000</td>\n",
       "      <td>40.000000</td>\n",
       "      <td>40.000000</td>\n",
       "      <td>40.000000</td>\n",
       "    </tr>\n",
       "    <tr>\n",
       "      <th>mean</th>\n",
       "      <td>20.500000</td>\n",
       "      <td>15.650000</td>\n",
       "      <td>7.450000</td>\n",
       "      <td>0.385537</td>\n",
       "      <td>0.068795</td>\n",
       "      <td>8.048349</td>\n",
       "      <td>0.341720</td>\n",
       "      <td>3.356028</td>\n",
       "      <td>19.769634</td>\n",
       "      <td>113.150000</td>\n",
       "      <td>325.925000</td>\n",
       "      <td>2.189011</td>\n",
       "      <td>2.375000</td>\n",
       "      <td>5.050812</td>\n",
       "    </tr>\n",
       "    <tr>\n",
       "      <th>std</th>\n",
       "      <td>11.690452</td>\n",
       "      <td>8.807194</td>\n",
       "      <td>6.356705</td>\n",
       "      <td>0.301070</td>\n",
       "      <td>0.028437</td>\n",
       "      <td>2.377975</td>\n",
       "      <td>0.086753</td>\n",
       "      <td>0.967478</td>\n",
       "      <td>4.621545</td>\n",
       "      <td>47.776483</td>\n",
       "      <td>100.765884</td>\n",
       "      <td>0.137738</td>\n",
       "      <td>3.978709</td>\n",
       "      <td>0.380025</td>\n",
       "    </tr>\n",
       "    <tr>\n",
       "      <th>min</th>\n",
       "      <td>1.000000</td>\n",
       "      <td>4.000000</td>\n",
       "      <td>0.000000</td>\n",
       "      <td>-0.266667</td>\n",
       "      <td>0.027500</td>\n",
       "      <td>4.844444</td>\n",
       "      <td>0.169725</td>\n",
       "      <td>2.005668</td>\n",
       "      <td>10.792453</td>\n",
       "      <td>37.000000</td>\n",
       "      <td>193.000000</td>\n",
       "      <td>1.891738</td>\n",
       "      <td>0.000000</td>\n",
       "      <td>4.344567</td>\n",
       "    </tr>\n",
       "    <tr>\n",
       "      <th>25%</th>\n",
       "      <td>10.750000</td>\n",
       "      <td>9.750000</td>\n",
       "      <td>3.000000</td>\n",
       "      <td>0.129644</td>\n",
       "      <td>0.050700</td>\n",
       "      <td>6.546020</td>\n",
       "      <td>0.277358</td>\n",
       "      <td>2.705039</td>\n",
       "      <td>17.283130</td>\n",
       "      <td>70.000000</td>\n",
       "      <td>261.000000</td>\n",
       "      <td>2.116288</td>\n",
       "      <td>0.000000</td>\n",
       "      <td>4.751883</td>\n",
       "    </tr>\n",
       "    <tr>\n",
       "      <th>50%</th>\n",
       "      <td>20.500000</td>\n",
       "      <td>14.000000</td>\n",
       "      <td>5.000000</td>\n",
       "      <td>0.405882</td>\n",
       "      <td>0.062700</td>\n",
       "      <td>7.907902</td>\n",
       "      <td>0.346562</td>\n",
       "      <td>3.322626</td>\n",
       "      <td>19.961233</td>\n",
       "      <td>111.500000</td>\n",
       "      <td>299.000000</td>\n",
       "      <td>2.198837</td>\n",
       "      <td>1.000000</td>\n",
       "      <td>4.934765</td>\n",
       "    </tr>\n",
       "    <tr>\n",
       "      <th>75%</th>\n",
       "      <td>30.250000</td>\n",
       "      <td>21.250000</td>\n",
       "      <td>9.250000</td>\n",
       "      <td>0.616667</td>\n",
       "      <td>0.087325</td>\n",
       "      <td>9.008065</td>\n",
       "      <td>0.398963</td>\n",
       "      <td>3.764401</td>\n",
       "      <td>21.740320</td>\n",
       "      <td>137.750000</td>\n",
       "      <td>382.000000</td>\n",
       "      <td>2.268706</td>\n",
       "      <td>2.000000</td>\n",
       "      <td>5.256558</td>\n",
       "    </tr>\n",
       "    <tr>\n",
       "      <th>max</th>\n",
       "      <td>40.000000</td>\n",
       "      <td>44.000000</td>\n",
       "      <td>24.000000</td>\n",
       "      <td>1.000000</td>\n",
       "      <td>0.142100</td>\n",
       "      <td>15.062500</td>\n",
       "      <td>0.553571</td>\n",
       "      <td>6.171058</td>\n",
       "      <td>33.375000</td>\n",
       "      <td>251.000000</td>\n",
       "      <td>637.000000</td>\n",
       "      <td>2.593750</td>\n",
       "      <td>16.000000</td>\n",
       "      <td>5.863905</td>\n",
       "    </tr>\n",
       "  </tbody>\n",
       "</table>\n",
       "</div>"
      ],
      "text/plain": [
       "          URL_ID  POSITIVE SCORE  NEGATIVE SCORE  POLARITY SCORE  \\\n",
       "count  40.000000       40.000000       40.000000       40.000000   \n",
       "mean   20.500000       15.650000        7.450000        0.385537   \n",
       "std    11.690452        8.807194        6.356705        0.301070   \n",
       "min     1.000000        4.000000        0.000000       -0.266667   \n",
       "25%    10.750000        9.750000        3.000000        0.129644   \n",
       "50%    20.500000       14.000000        5.000000        0.405882   \n",
       "75%    30.250000       21.250000        9.250000        0.616667   \n",
       "max    40.000000       44.000000       24.000000        1.000000   \n",
       "\n",
       "       SUBJECTIVITY SCORE  AVG SENTENCE LENGTH  PERCENTAGE OF COMPLEX WORDS  \\\n",
       "count           40.000000            40.000000                    40.000000   \n",
       "mean             0.068795             8.048349                     0.341720   \n",
       "std              0.028437             2.377975                     0.086753   \n",
       "min              0.027500             4.844444                     0.169725   \n",
       "25%              0.050700             6.546020                     0.277358   \n",
       "50%              0.062700             7.907902                     0.346562   \n",
       "75%              0.087325             9.008065                     0.398963   \n",
       "max              0.142100            15.062500                     0.553571   \n",
       "\n",
       "       FOG INDEX  AVG NUMBER OF WORDS PER SENTENCE  COMPLEX WORD COUNT  \\\n",
       "count  40.000000                         40.000000           40.000000   \n",
       "mean    3.356028                         19.769634          113.150000   \n",
       "std     0.967478                          4.621545           47.776483   \n",
       "min     2.005668                         10.792453           37.000000   \n",
       "25%     2.705039                         17.283130           70.000000   \n",
       "50%     3.322626                         19.961233          111.500000   \n",
       "75%     3.764401                         21.740320          137.750000   \n",
       "max     6.171058                         33.375000          251.000000   \n",
       "\n",
       "       WORD COUNT  SYLLABLE PER WORD  PERSONAL PRONOUNS  AVG WORD LENGTH  \n",
       "count   40.000000          40.000000          40.000000        40.000000  \n",
       "mean   325.925000           2.189011           2.375000         5.050812  \n",
       "std    100.765884           0.137738           3.978709         0.380025  \n",
       "min    193.000000           1.891738           0.000000         4.344567  \n",
       "25%    261.000000           2.116288           0.000000         4.751883  \n",
       "50%    299.000000           2.198837           1.000000         4.934765  \n",
       "75%    382.000000           2.268706           2.000000         5.256558  \n",
       "max    637.000000           2.593750          16.000000         5.863905  "
      ]
     },
     "execution_count": 120,
     "metadata": {},
     "output_type": "execute_result"
    }
   ],
   "source": [
    "df_.describe()"
   ]
  },
  {
   "cell_type": "code",
   "execution_count": 121,
   "id": "3616bacd",
   "metadata": {},
   "outputs": [],
   "source": [
    "import seaborn as sns\n",
    "import matplotlib.pyplot as plt\n",
    "\n",
    "%matplotlib inline"
   ]
  },
  {
   "cell_type": "code",
   "execution_count": 122,
   "id": "55c41bb4",
   "metadata": {},
   "outputs": [
    {
     "data": {
      "image/png": "[encoded data removed]",
      "text/plain": [
       "<Figure size 648x288 with 1 Axes>"
      ]
     },
     "metadata": {
      "needs_background": "light"
     },
     "output_type": "display_data"
    }
   ],
   "source": [
    "plt.figure(figsize=(9,4))\n",
    "plt.xlabel(\"\", fontdict={'size':15})\n",
    "plt.ylabel(\"\", fontdict={'size':15})\n",
    "sns.scatterplot(x=df_[\"POSITIVE SCORE\"], y=df_[\"NEGATIVE SCORE\"], marker=\"o\", ci=False)\n",
    "plt.xticks(size=12)\n",
    "plt.yticks(size=12);"
   ]
  },
  {
   "cell_type": "code",
   "execution_count": 123,
   "id": "cf4fcd1d",
   "metadata": {},
   "outputs": [
    {
     "data": {
      "image/png": "[encoded data removed]",
      "text/plain": [
       "<Figure size 648x288 with 1 Axes>"
      ]
     },
     "metadata": {
      "needs_background": "light"
     },
     "output_type": "display_data"
    }
   ],
   "source": [
    "plt.figure(figsize=(9,4))\n",
    "plt.xlabel(\"\", fontdict={'size':15})\n",
    "plt.ylabel(\"\", fontdict={'size':15})\n",
    "sns.countplot(x=df_[\"POLARITY\"], order=list(df_[\"POLARITY\"].value_counts().index))\n",
    "plt.xticks(size=12)\n",
    "plt.yticks(size=12);"
   ]
  },
  {
   "cell_type": "code",
   "execution_count": null,
   "id": "8196722f",
   "metadata": {},
   "outputs": [],
   "source": []
  }
 ],
 "metadata": {
  "kernelspec": {
   "display_name": "Python 3 (ipykernel)",
   "language": "python",
   "name": "python3"
  },
  "language_info": {
   "codemirror_mode": {
    "name": "ipython",
    "version": 3
   },
   "file_extension": ".py",
   "mimetype": "text/x-python",
   "name": "python",
   "nbconvert_exporter": "python",
   "pygments_lexer": "ipython3",
   "version": "3.9.7"
  },
  "nbTranslate": {
   "displayLangs": [
    "*"
   ],
   "hotkey": "alt-t",
   "langInMainMenu": true,
   "sourceLang": "en",
   "targetLang": "fr",
   "useGoogleTranslate": true
  },
  "toc": {
   "base_numbering": 1,
   "nav_menu": {},
   "number_sections": true,
   "sideBar": true,
   "skip_h1_title": false,
   "title_cell": "Table of Contents",
   "title_sidebar": "Contents",
   "toc_cell": false,
   "toc_position": {},
   "toc_section_display": true,
   "toc_window_display": false
  },
  "varInspector": {
   "cols": {
    "lenName": 16,
    "lenType": 16,
    "lenVar": 40
   },
   "kernels_config": {
    "python": {
     "delete_cmd_postfix": "",
     "delete_cmd_prefix": "del ",
     "library": "var_list.py",
     "varRefreshCmd": "print(var_dic_list())"
    },
    "r": {
     "delete_cmd_postfix": ") ",
     "delete_cmd_prefix": "rm(",
     "library": "var_list.r",
     "varRefreshCmd": "cat(var_dic_list()) "
    }
   },
   "oldHeight": 122.85,
   "position": {
    "height": "40px",
    "left": "958.8px",
    "right": "20px",
    "top": "120px",
    "width": "250px"
   },
   "types_to_exclude": [
    "module",
    "function",
    "builtin_function_or_method",
    "instance",
    "_Feature"
   ],
   "varInspector_section_display": "none",
   "window_display": false
  }
 },
 "nbformat": 4,
 "nbformat_minor": 5
}
